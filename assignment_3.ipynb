{
 "cells": [
  {
   "cell_type": "code",
   "execution_count": 1,
   "id": "6fcc77e7",
   "metadata": {},
   "outputs": [],
   "source": [
    "# General imports\n",
    "import time\n",
    "import numpy as np\n",
    "import pandas as pd\n",
    "from sklearn.preprocessing import StandardScaler\n",
    "from sklearn.metrics import normalized_mutual_info_score \n",
    "from scipy.spatial.distance import cdist\n",
    "import matplotlib.pyplot as plt"
   ]
  },
  {
   "cell_type": "markdown",
   "id": "7c64aada-ca6d-4fac-9c50-ff27f17c909c",
   "metadata": {},
   "source": [
    "#### Import Data"
   ]
  },
  {
   "cell_type": "code",
   "execution_count": 2,
   "id": "f75e582f",
   "metadata": {},
   "outputs": [],
   "source": [
    "#####################\n",
    "# KDD Dataset\n",
    "# First column is the BLOCK ID (class label), BLOCK IDs are integers running from 1 to 303 with 153 unique values (k)\n",
    "# Second column is the ELEMENT ID (sample number), unique numbers, not ordered\n",
    "# Third column is the class of the example. Homologous proteins = 1, non-homologous proteins = 0\n",
    "data = pd.read_csv('bio_train.csv',skiprows=0).to_numpy(dtype='object')\n",
    "\n",
    "#####################\n",
    "# Toy Dataset\n",
    "toy_data = np.genfromtxt('dataset1_noCluster7.csv', delimiter = ',')[1:]\n",
    "toy_data_features = toy_data[:,:2]\n",
    "toy_data_labels = toy_data[:,-1]\n",
    "\n",
    "scaler = StandardScaler()\n",
    "toy_data_features = scaler.fit_transform(toy_data_features)\n",
    "\n",
    "#plt.scatter(toy_data_features[:,0], toy_data_features[:,1], c = toy_data_labels)\n",
    "#plt.show()"
   ]
  },
  {
   "cell_type": "markdown",
   "id": "6d3dee64-6fe3-4525-8975-94db19e8025a",
   "metadata": {},
   "source": [
    "#### Data Preprocessing"
   ]
  },
  {
   "cell_type": "code",
   "execution_count": 3,
   "id": "3734f026",
   "metadata": {},
   "outputs": [],
   "source": [
    "# Shuffle, split into labels/features and normalize data\n",
    "def process_data(data):\n",
    "    # Shuffle\n",
    "    shuffle = np.random.permutation(len(data))\n",
    "    data = data[shuffle]\n",
    "    \n",
    "    # Split\n",
    "    block_ids = data[:,0]\n",
    "    element_ids = data[:,1]\n",
    "    homology = data[:,2]\n",
    "    features = data[:,3:]\n",
    "    \n",
    "    # Normalize the features\n",
    "    scaler = StandardScaler()\n",
    "    features = scaler.fit_transform(features)\n",
    "    \n",
    "    return block_ids, element_ids, features"
   ]
  },
  {
   "cell_type": "code",
   "execution_count": 4,
   "id": "be3c79a0",
   "metadata": {},
   "outputs": [],
   "source": [
    "# preprocess the data\n",
    "block_ids, element_ids, features = process_data(data)\n",
    "features = features.astype(np.float64) # only important if no normalization is done"
   ]
  },
  {
   "cell_type": "markdown",
   "id": "8fb4af20-7dd3-405a-89f7-ecfd3c799188",
   "metadata": {},
   "source": [
    "### Task 1 - Lloyds Algorithm"
   ]
  },
  {
   "cell_type": "code",
   "execution_count": 5,
   "id": "ee23b261",
   "metadata": {},
   "outputs": [],
   "source": [
    "def lloyds(data, k=153):\n",
    "    # Number of samples and features of the dataset\n",
    "    \n",
    "    n_samples, n_features = np.shape(data)\n",
    "    \n",
    "    # Pick k random points from data to be the initial cluster centers (eventually use kmeans+ here?)\n",
    "    #rand_nums = np.random.randint(0,n_samples,k)\n",
    "    #cluster_means = data[rand_nums]\n",
    "    \n",
    "    # pick the first k points as initial cluster means\n",
    "    cluster_means = np.copy(data[:k])\n",
    "    \n",
    "    \n",
    "    #kmeans++\n",
    "    #cluster_means = kmeans_plus_initialization(data, k)\n",
    "    \n",
    "    old_means = np.zeros([k, n_features])\n",
    "    counter = 0\n",
    "    \n",
    "    while (old_means != cluster_means).any():\n",
    "    \n",
    "        counter += 1\n",
    "        old_means = np.copy(cluster_means)\n",
    "        \n",
    "        # avoiding endless loop\n",
    "        if counter == 1000:\n",
    "            break\n",
    "            \n",
    "        # printing progress\n",
    "        if counter % 20 == 0: \n",
    "            print(\"iteration: \",counter)\n",
    "\n",
    "            \n",
    "        # measure assingment runtime\n",
    "        #start_assign = time.perf_counter()\n",
    "        \n",
    "        ############# Assign step\n",
    "        \n",
    "        distance_matrix = cdist(data,cluster_means, metric='sqeuclidean')\n",
    "        cluster_labels = np.argmin(distance_matrix, axis=1)\n",
    "        \n",
    "        ############# Update step\n",
    "        for j in range(k):\n",
    "            \n",
    "            idcs = np.where(cluster_labels == j)[0]\n",
    "            cluster_size = len(idcs)\n",
    "            \n",
    "            if cluster_size > 0:\n",
    "                cluster_sum = np.sum(data[idcs], axis=0)\n",
    "                cluster_means[j] = cluster_sum/cluster_size\n",
    "            \n",
    "            \n",
    "        #end_update = time.perf_counter()\n",
    "        \n",
    "        #print('Assign step runtime: '+str(start_update - start_assign))\n",
    "        #print('Update step runtime: '+str(end_update - start_update))\n",
    "        \n",
    "    print('KMeans converged in '+str(counter)+' iterations.')\n",
    "    return cluster_labels, cluster_means\n",
    "\n",
    "\n",
    "def kmeans_plus_initialization(data, k):\n",
    "    no_samples = len(data)\n",
    "    \n",
    "    cluster_means = np.zeros((k,len(data[0])))\n",
    "    cluster_means[0] = data[np.random.randint(0,no_samples)]\n",
    "    \n",
    "    for i in range(1,k):\n",
    "        distances = cdist(data,cluster_means, metric='sqeuclidean')\n",
    "        idx = np.argmax(np.min(distances, axis = 1))\n",
    "        cluster_means[i] = data[idx]\n",
    "\n",
    "    return cluster_means"
   ]
  },
  {
   "cell_type": "code",
   "execution_count": 6,
   "id": "d1b6ccb0",
   "metadata": {},
   "outputs": [
    {
     "ename": "KeyboardInterrupt",
     "evalue": "",
     "output_type": "error",
     "traceback": [
      "\u001b[1;31m---------------------------------------------------------------------------\u001b[0m",
      "\u001b[1;31mKeyboardInterrupt\u001b[0m                         Traceback (most recent call last)",
      "Input \u001b[1;32mIn [6]\u001b[0m, in \u001b[0;36m<cell line: 2>\u001b[1;34m()\u001b[0m\n\u001b[0;32m      1\u001b[0m \u001b[38;5;66;03m# clustering the KDD Dataset\u001b[39;00m\n\u001b[1;32m----> 2\u001b[0m labels, centers \u001b[38;5;241m=\u001b[39m \u001b[43mlloyds\u001b[49m\u001b[43m(\u001b[49m\u001b[43mfeatures\u001b[49m\u001b[43m)\u001b[49m\n",
      "Input \u001b[1;32mIn [5]\u001b[0m, in \u001b[0;36mlloyds\u001b[1;34m(data, k)\u001b[0m\n\u001b[0;32m     31\u001b[0m     \u001b[38;5;28mprint\u001b[39m(\u001b[38;5;124m\"\u001b[39m\u001b[38;5;124miteration: \u001b[39m\u001b[38;5;124m\"\u001b[39m,counter)\n\u001b[0;32m     34\u001b[0m \u001b[38;5;66;03m# measure assingment runtime\u001b[39;00m\n\u001b[0;32m     35\u001b[0m \u001b[38;5;66;03m#start_assign = time.perf_counter()\u001b[39;00m\n\u001b[0;32m     36\u001b[0m \n\u001b[0;32m     37\u001b[0m \u001b[38;5;66;03m############# Assign step\u001b[39;00m\n\u001b[1;32m---> 39\u001b[0m distance_matrix \u001b[38;5;241m=\u001b[39m \u001b[43mcdist\u001b[49m\u001b[43m(\u001b[49m\u001b[43mdata\u001b[49m\u001b[43m,\u001b[49m\u001b[43mcluster_means\u001b[49m\u001b[43m,\u001b[49m\u001b[43m \u001b[49m\u001b[43mmetric\u001b[49m\u001b[38;5;241;43m=\u001b[39;49m\u001b[38;5;124;43m'\u001b[39;49m\u001b[38;5;124;43msqeuclidean\u001b[39;49m\u001b[38;5;124;43m'\u001b[39;49m\u001b[43m)\u001b[49m\n\u001b[0;32m     40\u001b[0m cluster_labels \u001b[38;5;241m=\u001b[39m np\u001b[38;5;241m.\u001b[39margmin(distance_matrix, axis\u001b[38;5;241m=\u001b[39m\u001b[38;5;241m1\u001b[39m)\n\u001b[0;32m     42\u001b[0m \u001b[38;5;66;03m############# Update step\u001b[39;00m\n",
      "File \u001b[1;32m~\\anaconda3\\lib\\site-packages\\scipy\\spatial\\distance.py:2954\u001b[0m, in \u001b[0;36mcdist\u001b[1;34m(XA, XB, metric, out, **kwargs)\u001b[0m\n\u001b[0;32m   2952\u001b[0m \u001b[38;5;28;01mif\u001b[39;00m metric_info \u001b[38;5;129;01mis\u001b[39;00m \u001b[38;5;129;01mnot\u001b[39;00m \u001b[38;5;28;01mNone\u001b[39;00m:\n\u001b[0;32m   2953\u001b[0m     cdist_fn \u001b[38;5;241m=\u001b[39m metric_info\u001b[38;5;241m.\u001b[39mcdist_func\n\u001b[1;32m-> 2954\u001b[0m     \u001b[38;5;28;01mreturn\u001b[39;00m cdist_fn(XA, XB, out\u001b[38;5;241m=\u001b[39mout, \u001b[38;5;241m*\u001b[39m\u001b[38;5;241m*\u001b[39mkwargs)\n\u001b[0;32m   2955\u001b[0m \u001b[38;5;28;01melif\u001b[39;00m mstr\u001b[38;5;241m.\u001b[39mstartswith(\u001b[38;5;124m\"\u001b[39m\u001b[38;5;124mtest_\u001b[39m\u001b[38;5;124m\"\u001b[39m):\n\u001b[0;32m   2956\u001b[0m     metric_info \u001b[38;5;241m=\u001b[39m _TEST_METRICS\u001b[38;5;241m.\u001b[39mget(mstr, \u001b[38;5;28;01mNone\u001b[39;00m)\n",
      "\u001b[1;31mKeyboardInterrupt\u001b[0m: "
     ]
    }
   ],
   "source": [
    "# clustering the KDD Dataset\n",
    "labels, centers = lloyds(features)"
   ]
  },
  {
   "cell_type": "code",
   "execution_count": null,
   "id": "6e6240eb",
   "metadata": {},
   "outputs": [],
   "source": [
    "NMI_score = normalized_mutual_info_score(block_ids, labels)\n",
    "print(NMI_score)"
   ]
  },
  {
   "cell_type": "code",
   "execution_count": 7,
   "id": "757ce16d-934e-4e19-84fd-e6674f727c12",
   "metadata": {},
   "outputs": [
    {
     "name": "stdout",
     "output_type": "stream",
     "text": [
      "iteration:  20\n",
      "KMeans converged in 21 iterations.\n",
      "0.8418833655707196\n"
     ]
    },
    {
     "data": {
      "image/png": "[encoded data removed]",
      "text/plain": [
       "<Figure size 432x288 with 1 Axes>"
      ]
     },
     "metadata": {
      "needs_background": "light"
     },
     "output_type": "display_data"
    }
   ],
   "source": [
    "# run algorithm with the toy dataset\n",
    "toy_labels, toy_centers = lloyds(toy_data_features, k=7)\n",
    "\n",
    "NMI_score = normalized_mutual_info_score(toy_data_labels, toy_labels)\n",
    "print(NMI_score)\n",
    "\n",
    "plt.scatter(toy_data_features[:,0], toy_data_features[:,1], c = toy_labels)\n",
    "plt.show()"
   ]
  },
  {
   "cell_type": "markdown",
   "id": "f202e35d-2956-4ef8-9832-307a0ef484cb",
   "metadata": {},
   "source": [
    "### Task 2 - LSH + Kmeans"
   ]
  },
  {
   "cell_type": "code",
   "execution_count": 8,
   "id": "8de36888-1f1d-4f22-ae65-fa3e6694cf0b",
   "metadata": {},
   "outputs": [],
   "source": [
    "# This class defines a given number of hash functions. \n",
    "# The calculate_hash_values function can be used to calclueate the hash values of any array with no_features as the second dimension\n",
    "\n",
    "# not finished, just playing around, hello Jakob\n",
    "\n",
    "class hash_functions:\n",
    "    def __init__(self, no_functions, no_buckets, no_features):\n",
    "        self.no_functions = no_functions\n",
    "        self.no_buckets = no_buckets\n",
    "        self.no_features = no_features\n",
    "        \n",
    "        self.b = np.zeros(no_functions) # vector\n",
    "        self.a = np.random.normal(loc=0.0, scale=1.0, size=(no_features, no_functions)) # matrix\n",
    "\n",
    "    def sample_hash_values(self, data):\n",
    "        \n",
    "        self.w = []\n",
    "        \n",
    "        hash_values = np.dot(data, self.a) + self.b\n",
    "        \n",
    "        # This for loop goes over each column of the hash_values (each hash function) and computes \n",
    "        # the bucket size (w) for the given no_buckets parameter; thereafter it uses these values\n",
    "        # to complete the (a*p + b)/w hash values definition\n",
    "        \n",
    "        # w has to be known apriori and is only possible to derive using part of the actual hashing process\n",
    "        # a more visually pleasing version of this would be to calculate w using data during the initialization\n",
    "        # and use one single hashing function for both samples and clusters, but then we have to recompute a \n",
    "        # lot of calculation in the hashing - namely (a*p + b), which is used in the w computation\n",
    "        \n",
    "        for i in range(self.no_functions):\n",
    "            min_val = np.min(hash_values[:,i])\n",
    "            max_val = np.max(hash_values[:,i])\n",
    "            self.w.append((max_val-min_val)/(self.no_buckets - 1))\n",
    "            hash_values[:,i] = np.floor(hash_values[:,i]/self.w[i])\n",
    "        \n",
    "        return hash_values\n",
    "    \n",
    "    def cluster_hash_values(self, data):\n",
    "        return np.floor((np.dot(data, self.a) + self.b) / self.w)\n",
    "        "
   ]
  },
  {
   "cell_type": "code",
   "execution_count": 25,
   "id": "021e5e1b-dd4f-4055-b96c-a4e59902883f",
   "metadata": {},
   "outputs": [
    {
     "name": "stdout",
     "output_type": "stream",
     "text": [
      "[[ 0. -1. -1. -1.]\n",
      " [-1. -1.  0. -1.]\n",
      " [-1.  0. -1. -1.]\n",
      " ...\n",
      " [ 0. -1.  0. -1.]\n",
      " [-1.  0.  0.  0.]\n",
      " [ 0. -1. -1. -1.]]\n",
      "[[ 0. -1. -1. -1.]\n",
      " [-1. -1.  0. -1.]]\n"
     ]
    }
   ],
   "source": [
    "# define hash functions\n",
    "no_features = len(features[0])\n",
    "no_buckets = 10\n",
    "hash_funcs = hash_functions(4, no_buckets, no_features)\n",
    "\n",
    "#calculate the 16 hash values from all features\n",
    "hash_values = hash_funcs.sample_hash_values(features)\n",
    "\n",
    "#print(hash_values)\n",
    "\"\"\"\n",
    "# pick the first k points as initial cluster means\n",
    "cluster_means = data[:k]\n",
    "old_means = np.zeros([k, n_features])\n",
    "counter = 0\n",
    "\n",
    "while (old_means != cluster_means).any():\n",
    "    \n",
    "    counter += 1\n",
    "    old_means = np.copy(cluster_means)\n",
    "    \n",
    "    # calculate hash values of the cluster centers\n",
    "    cluster_means_hashes = hash_funcs.calculate_hash_values(cluster_means)\n",
    "    \n",
    "    # link the hash values with AND and OR to form the final buckets\n",
    "    \n",
    "\"\"\"\n",
    "print(hash_values)  \n",
    "c_values = hash_funcs.cluster_hash_values(features[:2])\n",
    "print(c_values)"
   ]
  },
  {
   "cell_type": "code",
   "execution_count": 24,
   "id": "2abd7f8f",
   "metadata": {},
   "outputs": [],
   "source": [
    "# WORK IN PROGRESS\n",
    "\n",
    "def lloyds_LSH(data, k=153, no_functions=4, no_buckets=10):\n",
    "    # Number of samples and features of the dataset\n",
    "    n_samples, n_features = np.shape(data)\n",
    "    \n",
    "    # Pick the first k points as initial cluster means\n",
    "    cluster_means = np.copy(data[:k])\n",
    "\n",
    "    # Initialize hash functions\n",
    "    hash_funcs = hash_functions(no_functions, no_buckets, n_features)\n",
    "    \n",
    "    # Hash samples\n",
    "    sample_hashes = hash_funcs.sample_hash_values(data)\n",
    "    \n",
    "    old_means = np.zeros([k, n_features])\n",
    "    counter = 0\n",
    "    \n",
    "    while (old_means != cluster_means).any():\n",
    "    \n",
    "        counter += 1\n",
    "        old_means = np.copy(cluster_means)\n",
    "        \n",
    "        # Hash cluster centers\n",
    "        cluster_hashes = hash_funcs.cluster_hash_values(cluster_means)\n",
    "        \n",
    "        # avoiding endless loop\n",
    "        if counter == 1000:\n",
    "            break\n",
    "            \n",
    "        # printing progress\n",
    "        if counter % 20 == 0: \n",
    "            print(\"iteration: \",counter)\n",
    "\n",
    "            \n",
    "        # measure assingment runtime\n",
    "        #start_assign = time.perf_counter()\n",
    "        \n",
    "        ############# Assign step\n",
    "        \n",
    "        cluster_labels = np.zeros(n_samples) - 1\n",
    "        \n",
    "        # Basic OR scheme\n",
    "        for i in range(n_samples):\n",
    "            for j in range(k):\n",
    "                if np.sum(sample_hashes[i] == cluster_hashes[j]) > 0:\n",
    "                    cluster_labels[i] = j\n",
    "                    break\n",
    "            \n",
    "        # Compute distance for unassigned samples\n",
    "        unassig = np.where(cluster_labels == -1)[0]\n",
    "        \n",
    "        distance_matrix = cdist(data[unassig],cluster_means, metric='sqeuclidean')\n",
    "        cluster_labels[unassig] = np.argmin(distance_matrix, axis=1)\n",
    "        \n",
    "        \n",
    "        ############# Update step\n",
    "        for j in range(k):\n",
    "            \n",
    "            idcs = np.where(cluster_labels == j)[0]\n",
    "            cluster_size = len(idcs)\n",
    "            \n",
    "            if cluster_size > 0:\n",
    "                cluster_sum = np.sum(data[idcs], axis=0)\n",
    "                cluster_means[j] = cluster_sum/cluster_size\n",
    "            \n",
    "            \n",
    "        #end_update = time.perf_counter()\n",
    "        \n",
    "        #print('Assign step runtime: '+str(start_update - start_assign))\n",
    "        #print('Update step runtime: '+str(end_update - start_update))\n",
    "        \n",
    "    print('KMeans converged in '+str(counter)+' iterations.')\n",
    "    return cluster_labels, cluster_means"
   ]
  },
  {
   "cell_type": "code",
   "execution_count": 26,
   "id": "dab574f1",
   "metadata": {},
   "outputs": [
    {
     "name": "stdout",
     "output_type": "stream",
     "text": [
      "KMeans converged in 3 iterations.\n"
     ]
    }
   ],
   "source": [
    "# clustering the KDD Dataset\n",
    "labels, centers = lloyds_LSH(features)"
   ]
  },
  {
   "cell_type": "code",
   "execution_count": 27,
   "id": "3ee34566",
   "metadata": {},
   "outputs": [
    {
     "name": "stdout",
     "output_type": "stream",
     "text": [
      "0.003081498818078647\n"
     ]
    }
   ],
   "source": [
    "NMI_score = normalized_mutual_info_score(block_ids, labels)\n",
    "print(NMI_score)"
   ]
  },
  {
   "cell_type": "code",
   "execution_count": null,
   "id": "a0535940",
   "metadata": {},
   "outputs": [],
   "source": []
  }
 ],
 "metadata": {
  "kernelspec": {
   "display_name": "Python 3 (ipykernel)",
   "language": "python",
   "name": "python3"
  },
  "language_info": {
   "codemirror_mode": {
    "name": "ipython",
    "version": 3
   },
   "file_extension": ".py",
   "mimetype": "text/x-python",
   "name": "python",
   "nbconvert_exporter": "python",
   "pygments_lexer": "ipython3",
   "version": "3.9.12"
  }
 },
 "nbformat": 4,
 "nbformat_minor": 5
}
